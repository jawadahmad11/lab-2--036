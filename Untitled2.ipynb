{
  "nbformat": 4,
  "nbformat_minor": 0,
  "metadata": {
    "colab": {
      "provenance": []
    },
    "kernelspec": {
      "name": "python3",
      "display_name": "Python 3"
    },
    "language_info": {
      "name": "python"
    }
  },
  "cells": [
    {
      "cell_type": "code",
      "execution_count": 2,
      "metadata": {
        "colab": {
          "base_uri": "https://localhost:8080/"
        },
        "id": "-Kc2NZpNI4oO",
        "outputId": "239aabcb-7895-4527-c7b5-37ba27a6500a"
      },
      "outputs": [
        {
          "output_type": "stream",
          "name": "stdout",
          "text": [
            "Shortest path: ['Islamabad', 'Rawalpindi', 'Quetta', 'Karachi']\n"
          ]
        }
      ],
      "source": [
        "from collections import deque\n",
        "\n",
        "# Define the graph (cities and their connections)\n",
        "city_graph = {\n",
        "    'Islamabad': ['Rawalpindi', 'Lahore', 'Peshawar'],\n",
        "    'Rawalpindi': ['Islamabad', 'Peshawar', 'Quetta'],\n",
        "    'Peshawar': ['Islamabad', 'Rawalpindi', 'Quetta'],\n",
        "    'Lahore': ['Islamabad', 'Multan', 'Quetta'],\n",
        "    'Multan': ['Lahore', 'Karachi', 'Quetta'],\n",
        "    'Quetta': ['Rawalpindi', 'Peshawar', 'Multan', 'Karachi'],\n",
        "    'Karachi': ['Multan', 'Quetta']\n",
        "}\n",
        "\n",
        "# BFS function to find the shortest path\n",
        "def bfs_shortest_path(start, goal, graph):\n",
        "    # Queue for holding the path\n",
        "    queue = deque([[start]])\n",
        "    # Set for visited cities\n",
        "    visited = set()\n",
        "\n",
        "    while queue:\n",
        "        # Get the current path\n",
        "        path = queue.popleft()\n",
        "        # Get the last city in the current path\n",
        "        city = path[-1]\n",
        "\n",
        "        # If the city is the goal, return the path\n",
        "        if city == goal:\n",
        "            return path\n",
        "\n",
        "        # If the city has not been visited, explore its neighbors\n",
        "        if city not in visited:\n",
        "            visited.add(city)\n",
        "            for neighbor in graph[city]:\n",
        "                new_path = list(path)  # Copy the current path\n",
        "                new_path.append(neighbor)  # Add neighbor to the new path\n",
        "                queue.append(new_path)  # Add the new path to the queue\n",
        "\n",
        "    # Return None if no path is found\n",
        "    return None\n",
        "\n",
        "# Find the shortest path from Islamabad to Karachi\n",
        "shortest_path = bfs_shortest_path('Islamabad', 'Karachi', city_graph)\n",
        "print(\"Shortest path:\", shortest_path)"
      ]
    }
  ]
}